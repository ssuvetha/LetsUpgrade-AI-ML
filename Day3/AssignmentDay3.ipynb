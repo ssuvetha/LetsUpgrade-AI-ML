{
 "cells": [
  {
   "cell_type": "markdown",
   "metadata": {},
   "source": [
    "# 1) Adding two complex numbers\n"
   ]
  },
  {
   "cell_type": "code",
   "execution_count": null,
   "metadata": {},
   "outputs": [],
   "source": [
    "first_number=complex(input(\"enter your first complex number:\")) #complex()- will get values in complex type \n",
    "                                                                #ie.,a+bj format.\n",
    "second_number=complex(input(\"enter your second complex number:\"))\n",
    "print(\"the added complex value is :\",first_number+second_number) #even if we dont give imaginary value by default,\n",
    "                                                                 #0j will be there in output"
   ]
  },
  {
   "cell_type": "markdown",
   "metadata": {},
   "source": [
    "# 2) Fourth square root of a number"
   ]
  },
  {
   "cell_type": "code",
   "execution_count": 2,
   "metadata": {},
   "outputs": [
    {
     "name": "stdout",
     "output_type": "stream",
     "text": [
      "Enter a number to find its fourth square root:256\n",
      "The Fourth Square Root of  256 is 4.0\n"
     ]
    }
   ],
   "source": [
    "import math   #importing math function only then we can use sqrt().\n",
    "number=int(input(\"Enter a number to find its fourth square root:\"))\n",
    "a=math.sqrt(number)#taking two times square of a number, will give fourth square root.\n",
    "print(\"The Fourth Square Root of \",number,\"is\",math.sqrt(a))"
   ]
  },
  {
   "cell_type": "markdown",
   "metadata": {},
   "source": [
    "# 3) Swapping two numbers using temporary variable"
   ]
  },
  {
   "cell_type": "code",
   "execution_count": 3,
   "metadata": {},
   "outputs": [
    {
     "name": "stdout",
     "output_type": "stream",
     "text": [
      "enter the first number:20\n",
      "enter the second number:10\n",
      "****Before Swapping****\n",
      "the first number is: 20\n",
      "the second number is: 10\n",
      "****After Swapping****\n",
      "the first number: 10\n",
      "the second number is 20\n"
     ]
    }
   ],
   "source": [
    "first=int(input(\"enter the first number:\"))\n",
    "second=int(input(\"enter the second number:\"))\n",
    "\n",
    "print(\"****Before Swapping****\")\n",
    "print(\"the first number is:\",first)\n",
    "print(\"the second number is:\",second)\n",
    "\n",
    "temp=first  #using temporary value to swap two values\n",
    "first=second\n",
    "second=temp\n",
    "\n",
    "print(\"****After Swapping****\")\n",
    "print(\"the first number:\",first)\n",
    "print(\"the second number is\",second)\n"
   ]
  },
  {
   "cell_type": "markdown",
   "metadata": {},
   "source": [
    "# 4) Swapping without using temporary value"
   ]
  },
  {
   "cell_type": "code",
   "execution_count": 4,
   "metadata": {},
   "outputs": [
    {
     "name": "stdout",
     "output_type": "stream",
     "text": [
      "enter the first number:10\n",
      "enter the second number:20\n",
      "the first number: 20\n",
      "the second number is 10\n"
     ]
    }
   ],
   "source": [
    "first=int(input(\"enter the first number:\"))\n",
    "second=int(input(\"enter the second number:\"))\n",
    "first,second=second,first  #this line will swap the variable values.ie., viceversa.\n",
    "print(\"the first number:\",first)\n",
    "print(\"the second number is\",second)"
   ]
  },
  {
   "cell_type": "markdown",
   "metadata": {},
   "source": [
    "# 5) Convert fahrenheit to kelvin and celsius "
   ]
  },
  {
   "cell_type": "code",
   "execution_count": 5,
   "metadata": {},
   "outputs": [
    {
     "name": "stdout",
     "output_type": "stream",
     "text": [
      "enter the farenheit value:92\n",
      "farenheit =  92.0 celcius is = 33.333333333333336\n",
      "farenheit =  92.0 kelvin =  306.4833333333333\n"
     ]
    }
   ],
   "source": [
    "farenheit=float(input(\"enter the farenheit value:\"))\n",
    "celcius=((farenheit-32)*5/9)\n",
    "print(\"farenheit = \",farenheit,\"celcius is =\",celcius)\n",
    "#print(\"celcius of = \",farenheit,\"farenheit is:\",celcius)\n",
    "kelvin=(farenheit-32)*5/9 + 273.15\n",
    "print(\"farenheit = \",farenheit,\"kelvin = \",kelvin)\n"
   ]
  },
  {
   "cell_type": "markdown",
   "metadata": {},
   "source": [
    "# 6) All available Data Types"
   ]
  },
  {
   "cell_type": "code",
   "execution_count": 6,
   "metadata": {},
   "outputs": [
    {
     "name": "stdout",
     "output_type": "stream",
     "text": [
      "<class 'int'>\n",
      "<class 'float'>\n",
      "<class 'complex'>\n",
      "<class 'str'>\n",
      "<class 'str'>\n",
      "<class 'tuple'>\n",
      "<class 'list'>\n",
      "<class 'dict'>\n",
      "<class 'set'>\n",
      "<class 'bool'>\n",
      "<class 'range'>\n"
     ]
    }
   ],
   "source": [
    "a=12\n",
    "print(type(a))\n",
    "b=12.3\n",
    "print(type(b))\n",
    "b1=10+9j\n",
    "print(type(b1))\n",
    "c='hai' # both ' ' and \"\" will be considered as string.\n",
    "print(type(c))\n",
    "d=\"hello\"\n",
    "print(type(d))\n",
    "e=(12,34.0,\"hey there\") # list uses [] whereas tuple uses ().\n",
    "print(type(e))\n",
    "f=[12,34.89,\"haii..\"]\n",
    "print(type(f))\n",
    "g={\"a\":\"apple\",\"b\":\"banana\"}\n",
    "print(type(g))\n",
    "h={\"a\",\"apple\",\"b\",\"banana\"}\n",
    "print(type(h))\n",
    "i=True\n",
    "print(type(i))\n",
    "j=range(2)\n",
    "print(type(j))\n"
   ]
  },
  {
   "cell_type": "markdown",
   "metadata": {},
   "source": [
    "## Steps discussed for creating and uploading assignments in Github"
   ]
  },
  {
   "cell_type": "markdown",
   "metadata": {},
   "source": [
    "### 1) we have to save our coding in a folder called day3 in our local drive.\n",
    "### 2) Then we have to open out github profile and we must click on new button at left side panel.\n",
    "### 3) Now we have to give the repository name as LetsUpgradeAI-ML\n",
    "### 4)In description box we have give assignment.\n",
    "### 5)We have to make our code public so we should not perform any modification here then.\n",
    "### 6)Click on create repository, folder named LetsupgradeAL-ML will be created.\n",
    "### 7) we must click on upload an existing file.\n",
    "### 8) Here we have drag and drop option.we have to move our files in that box specified and click on comit chnages.\n",
    "### 9)Now our folder will be there we can open it. github will also show the code.we have to copy the url and send the same to letsupgrade."
   ]
  }
 ],
 "metadata": {
  "kernelspec": {
   "display_name": "Python 3",
   "language": "python",
   "name": "python3"
  },
  "language_info": {
   "codemirror_mode": {
    "name": "ipython",
    "version": 3
   },
   "file_extension": ".py",
   "mimetype": "text/x-python",
   "name": "python",
   "nbconvert_exporter": "python",
   "pygments_lexer": "ipython3",
   "version": "3.7.6"
  }
 },
 "nbformat": 4,
 "nbformat_minor": 4
}
