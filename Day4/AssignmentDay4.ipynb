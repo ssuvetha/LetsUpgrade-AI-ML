{
 "cells": [
  {
   "cell_type": "markdown",
   "metadata": {},
   "source": [
    "# 1) Performing Arithmetic operation on complex numbers"
   ]
  },
  {
   "cell_type": "code",
   "execution_count": 17,
   "metadata": {},
   "outputs": [
    {
     "name": "stdout",
     "output_type": "stream",
     "text": [
      "enter your first complex number:4\n",
      "enter your second complex number:2\n",
      "the added value of (4+0j) + (2+0j) = (6+0j)\n",
      "the subtracted value of (4+0j) - (2+0j) = (2+0j)\n",
      "the multiplied value of (4+0j) * (2+0j) = (8+0j)\n",
      "the divided value of (4+0j) / (2+0j) = (2+0j)\n",
      "the modulo value of (4+0j) = 4.0\n"
     ]
    }
   ],
   "source": [
    "first=complex(input(\"enter your first complex number:\"))\n",
    "second=complex(input(\"enter your second complex number:\"))\n",
    "print(\"the added value of\",first,\"+\",second,\"=\",first+second)\n",
    "print(\"the subtracted value of\",first,\"-\",second,\"=\",first-second)\n",
    "print(\"the multiplied value of\",first,\"*\",second,\"=\",first*second)\n",
    "print(\"the divided value of\",first,\"/\",second,\"=\",first/second)\n",
    "print(\"the modulo value of\",first,\"=\",abs(first)) # the modulo % cannot be performed directly on complex numbers \n",
    "                                                  # so we are using abs()-absolute value.\n",
    "                                                  # floor function cannot be impllemented in complex numbers."
   ]
  },
  {
   "cell_type": "markdown",
   "metadata": {},
   "source": [
    "# 2) Range function and it's parameters\n",
    "## range(end before) - range(6)\n",
    "    It will  print number starting from zero and ends before the specified number ie.,0,1,2,3,4,5 "
   ]
  },
  {
   "cell_type": "code",
   "execution_count": 46,
   "metadata": {},
   "outputs": [
    {
     "name": "stdout",
     "output_type": "stream",
     "text": [
      "0 1 2 3 4 5 "
     ]
    }
   ],
   "source": [
    "for x in range(6):\n",
    "    print(x,end=\" \")\n"
   ]
  },
  {
   "cell_type": "markdown",
   "metadata": {},
   "source": [
    "# range(from,before) - range(2,8)\n",
    "    It will print from number 2 and ends before 8. ie.,2,3,4,5,6,7"
   ]
  },
  {
   "cell_type": "code",
   "execution_count": 44,
   "metadata": {},
   "outputs": [
    {
     "name": "stdout",
     "output_type": "stream",
     "text": [
      "2 3 4 5 6 7 "
     ]
    }
   ],
   "source": [
    "for x in range(2,8):\n",
    "    print(x,end=\" \")"
   ]
  },
  {
   "cell_type": "markdown",
   "metadata": {},
   "source": [
    "# range(from,before,jump) - range(2,20,2)\n",
    "    It will print from number 2 to 20 but as we have given 2 as third parameter it will make jump 2 steps. ie           2,4,6,8,10,12,14,16,18"
   ]
  },
  {
   "cell_type": "code",
   "execution_count": 45,
   "metadata": {},
   "outputs": [
    {
     "name": "stdout",
     "output_type": "stream",
     "text": [
      "2 4 6 8 10 12 14 16 18 "
     ]
    }
   ],
   "source": [
    "for x in range(2,20,2):\n",
    "    print(x,end=\" \")"
   ]
  },
  {
   "cell_type": "markdown",
   "metadata": {},
   "source": [
    "# 3) performing subtraction, based on result other set of action will be carried out. "
   ]
  },
  {
   "cell_type": "code",
   "execution_count": 7,
   "metadata": {},
   "outputs": [
    {
     "name": "stdout",
     "output_type": "stream",
     "text": [
      "enter the first number: 23\n",
      "enter the second number:56\n",
      "the subtracted number is lesser than 25 so i am performing division.\n",
      "23 / 56 = 0.4107142857142857\n"
     ]
    }
   ],
   "source": [
    "a=int(input(\"enter the first number: \"))\n",
    "b=int(input(\"enter the second number:\"))\n",
    "c=a-b\n",
    "if (c>=25):\n",
    "    print(\"the subtracted value is greater than 25 so i am performing multiplication.\")\n",
    "    print(a,\"X\",b,\"=\",a*b)\n",
    "else:\n",
    "    print(\"the subtracted number is lesser than 25 so i am performing division.\")\n",
    "    print(a,\"/\",b,\"=\",a/b)\n",
    "    "
   ]
  },
  {
   "cell_type": "markdown",
   "metadata": {},
   "source": [
    "# 4) printing list of numbers which is divided by 2"
   ]
  },
  {
   "cell_type": "code",
   "execution_count": 62,
   "metadata": {},
   "outputs": [
    {
     "name": "stdout",
     "output_type": "stream",
     "text": [
      "( 2 * 2 )= 4  - 2  ----> 2\n",
      "( 4 * 4 )= 16  - 2  ----> 14\n",
      "( 6 * 6 )= 36  - 2  ----> 34\n",
      "( 8 * 8 )= 64  - 2  ----> 62\n",
      "( 10 * 10 )= 100  - 2  ----> 98\n"
     ]
    }
   ],
   "source": [
    "for i in range(1,11):\n",
    "    if(i%2==0):\n",
    "        print(\"(\",i,\"*\",i,\")\"\"=\",i*i,\" - 2  ---->\",(i*i)-2)\n",
    "       "
   ]
  },
  {
   "cell_type": "markdown",
   "metadata": {},
   "source": [
    "# 5) printing elements greater than 7 and divisible by 2"
   ]
  },
  {
   "cell_type": "code",
   "execution_count": 69,
   "metadata": {},
   "outputs": [
    {
     "name": "stdout",
     "output_type": "stream",
     "text": [
      "20\n",
      "14\n",
      "56\n",
      "8\n"
     ]
    }
   ],
   "source": [
    "lst=[20,21,14,56,87,4,2,7,8]\n",
    "for x in lst:\n",
    "        if(x>=7 and x%2==0): #the number should be greater than 7 and as well as it should be divisible by 2, \n",
    "             print (x)       #then only it will get printed"
   ]
  }
 ],
 "metadata": {
  "kernelspec": {
   "display_name": "Python 3",
   "language": "python",
   "name": "python3"
  },
  "language_info": {
   "codemirror_mode": {
    "name": "ipython",
    "version": 3
   },
   "file_extension": ".py",
   "mimetype": "text/x-python",
   "name": "python",
   "nbconvert_exporter": "python",
   "pygments_lexer": "ipython3",
   "version": "3.7.6"
  }
 },
 "nbformat": 4,
 "nbformat_minor": 4
}
