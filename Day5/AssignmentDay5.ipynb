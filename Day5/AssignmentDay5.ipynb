{
 "cells": [
  {
   "cell_type": "markdown",
   "metadata": {},
   "source": [
    "# 1) First 20 non even prime natural number"
   ]
  },
  {
   "cell_type": "code",
   "execution_count": 3,
   "metadata": {},
   "outputs": [
    {
     "name": "stdout",
     "output_type": "stream",
     "text": [
      "3\n",
      "5\n",
      "7\n",
      "11\n",
      "13\n",
      "17\n",
      "19\n",
      "23\n",
      "29\n",
      "31\n",
      "37\n",
      "41\n",
      "43\n",
      "47\n",
      "53\n",
      "59\n",
      "61\n",
      "67\n",
      "71\n",
      "73\n"
     ]
    }
   ],
   "source": [
    "for x in range(3,74):  # as we want 20 natural prime numbers, range is taken from 3 to 73. \n",
    "                       # 2 is an even prime number.\n",
    "    value=0\n",
    "    for i in range(2,x//2+1):\n",
    "        if(x%i==0):\n",
    "            value=value+1\n",
    "    if(value<=0):\n",
    "        print(x)"
   ]
  },
  {
   "cell_type": "markdown",
   "metadata": {},
   "source": [
    "# 2) String functions"
   ]
  },
  {
   "cell_type": "code",
   "execution_count": null,
   "metadata": {},
   "outputs": [],
   "source": [
    "print(\"                           *****string functions*****\")\n",
    "print('\\n')\n",
    "a = \"first\"\n",
    "print(\"the string1 is:\",a)\n",
    "x = a.capitalize()\n",
    "print (\"capitalised the first letter:\",x,'\\n')\n",
    "\n",
    "txt1=\"i am eating eating chocolate\"\n",
    "t1=txt1.count(\"eating\")\n",
    "print(\"the string is: \",txt1)\n",
    "print(\"how many times word eating is found: \",t1,\"\\n\")\n",
    "\n",
    "txt1=\"CHOCOLATE\"\n",
    "t1=txt1.casefold()\n",
    "print(\"the string is: \",txt1)\n",
    "print(\"how many times word eating is found: \",t1,\"\\n\")\n",
    "\n",
    "txt1=\"CHOCOLATE\"\n",
    "t1=txt1.casefold()\n",
    "print(\"the string is: \",txt1)\n",
    "print(\"how many times word eating is found: \",t1,\"\\n\")\n",
    "\n",
    "\n",
    "txt1=\"CHOCOLATE\"\n",
    "t1=txt1.encode()\n",
    "print(\"the string is: \",txt1)\n",
    "print(\"how many times word eating is found: \",t1,\"\\n\")\n",
    "\n",
    "txt1 = \"learning python\"\n",
    "print(\"the  string3 is:\",txt1)\n",
    "x = txt1.find(\"python\")\n",
    "print(\"does the  word python found:\",x,'\\n')\n",
    "\n",
    "num=\"1234\"\n",
    "print(\"the  string is:\",num)\n",
    "x = num.isnumeric()\n",
    "print(\"is the srting is numeric:\",x,'\\n')\n",
    "\n",
    "c = \"_hai 111\"\n",
    "print(\"the string4 is:\",c)\n",
    "d = txt.isidentifier() #it contain sapce which is not alphanumeric\n",
    "print(\"is string identifier:\",d,'\\n')\n",
    "\n",
    "c = \"hai 111\"\n",
    "print(\"the string4 is:\",c)\n",
    "d = txt.isalnum() #it contain sapce which is not alphanumeric\n",
    "print(\"is alnumeric:\",d,'\\n')\n",
    "\n",
    "txt = \"I like chicken\"\n",
    "print(\"the string is:\",txt)\n",
    "x = txt.replace(\"chicken\", \"lolipop\")\n",
    "print(\"the modified string is:\",x,'\\n')\n",
    "\n",
    "txt = \"I like chicken\"\n",
    "print(\"the string is:\",txt)\n",
    "x = txt.split()\n",
    "print(\"the modified string is:\",x,'\\n')\n",
    "\n",
    "aa = \"Hello my friends\"\n",
    "bb= aa.upper()\n",
    "print(\"actual string\",aa)\n",
    "print(\"text will changed to upper case:\",bb,'\\n')\n",
    "\n",
    "ab=\"HAI THERE\"\n",
    "cc =ab.lower()\n",
    "print(\"actual string:\",ab)\n",
    "print(\"text will changed to lower case:\",cc,'\\n')\n",
    "print(\"actual string:\",ab)\n",
    "bb= bb.isupper()\n",
    "print(\"does the string isupper:\", bb,'\\n')\n",
    "\n",
    "print(\"actual string:\",cc)\n",
    "ccc=cc.islower()\n",
    "print(\"does the string lower:\",ccc)\n",
    "print('\\n')\n"
   ]
  },
  {
   "cell_type": "markdown",
   "metadata": {},
   "source": [
    "# 3) A String is palindrome or not"
   ]
  },
  {
   "cell_type": "code",
   "execution_count": 2,
   "metadata": {},
   "outputs": [
    {
     "name": "stdout",
     "output_type": "stream",
     "text": [
      "enter the first string:asia\n",
      "not palindrome\n"
     ]
    }
   ],
   "source": [
    "str1=input(\"enter the first string:\")\n",
    "a=str1.lower()\n",
    "str2=a[::-1]\n",
    "b=str2.lower()\n",
    "if(a==b):\n",
    "    print(\"palindrome\")\n",
    "else:\n",
    "    print(\"not palindrome\")\n",
    "    \n"
   ]
  },
  {
   "cell_type": "markdown",
   "metadata": {},
   "source": [
    "# 4) A String is anogram or not"
   ]
  },
  {
   "cell_type": "code",
   "execution_count": 4,
   "metadata": {},
   "outputs": [
    {
     "name": "stdout",
     "output_type": "stream",
     "text": [
      "enter string1:asia\n",
      "enter string2:isaa\n",
      "anogram\n"
     ]
    }
   ],
   "source": [
    "s1=input(\"enter string1:\")\n",
    "s2=input(\"enter string2:\")\n",
    "if(sorted(s1)==sorted(s2)):\n",
    "     print(\"anogram\")\n",
    "else:\n",
    "    print(\"not anogram\")"
   ]
  },
  {
   "cell_type": "markdown",
   "metadata": {},
   "source": [
    "# 5) User defined function to remove special characters"
   ]
  },
  {
   "cell_type": "code",
   "execution_count": 1,
   "metadata": {},
   "outputs": [
    {
     "name": "stdout",
     "output_type": "stream",
     "text": [
      "enter the string:DrDarshanIngle-@ALML letsupgrade\n",
      " drdarshaninglealmlletsupgrade\n"
     ]
    }
   ],
   "source": [
    "string=input(\"enter the string:\")\n",
    "def stringfunction(string):\n",
    "    add=\" \"\n",
    "       for char in string:\n",
    "        if(char.isalnum()):  # only the alpha numneric characters will get stores in the variable add\n",
    "             add +=char      # special symbols will not get stored. as we check the string for  alpha numeric.\n",
    "    return add              # this value will be returned to the calling function\n",
    "\n",
    "stringfunction(string)\n",
    "lower=stringfunction(string)\n",
    "print(lower.lower())"
   ]
  }
 ],
 "metadata": {
  "kernelspec": {
   "display_name": "Python 3",
   "language": "python",
   "name": "python3"
  },
  "language_info": {
   "codemirror_mode": {
    "name": "ipython",
    "version": 3
   },
   "file_extension": ".py",
   "mimetype": "text/x-python",
   "name": "python",
   "nbconvert_exporter": "python",
   "pygments_lexer": "ipython3",
   "version": "3.7.6"
  }
 },
 "nbformat": 4,
 "nbformat_minor": 4
}
