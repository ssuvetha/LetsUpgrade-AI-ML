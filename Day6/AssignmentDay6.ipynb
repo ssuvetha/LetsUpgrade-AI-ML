{
 "cells": [
  {
   "cell_type": "markdown",
   "metadata": {},
   "source": [
    "## Question1\n"
   ]
  },
  {
   "cell_type": "code",
   "execution_count": 62,
   "metadata": {},
   "outputs": [
    {
     "name": "stdout",
     "output_type": "stream",
     "text": [
      "google\n"
     ]
    }
   ],
   "source": [
    "email = 'user@google.com'\n",
    "domain = email.split('@')[1]\n",
    "domain1 = email.split('.')[1]\n",
    "print(domain.rstrip('.com.in'))"
   ]
  },
  {
   "cell_type": "markdown",
   "metadata": {},
   "source": [
    "## Question 2 - sorting alphabetically\n"
   ]
  },
  {
   "cell_type": "code",
   "execution_count": 13,
   "metadata": {},
   "outputs": [
    {
     "name": "stdout",
     "output_type": "stream",
     "text": [
      "given stirngs are: ('bala', 'hari', 'suvetha', 'zebra', 'cat', 'cow')\n",
      "the alphabetically sorted strings are: ['bala', 'cat', 'cow', 'hari', 'suvetha', 'zebra']\n",
      "enter:sa,da\n",
      "['sa,da']\n"
     ]
    },
    {
     "data": {
      "text/plain": [
       "['sa,da']"
      ]
     },
     "execution_count": 13,
     "metadata": {},
     "output_type": "execute_result"
    }
   ],
   "source": [
    "str1 = (\"bala\", \"hari\", \"suvetha\", \"zebra\", \"cat\", \"cow\")\n",
    "print(\"given stirngs are:\",str1)\n",
    "str2 = sorted(str1)\n",
    "print(\"the alphabetically sorted strings are:\",str2)\n"
   ]
  },
  {
   "cell_type": "markdown",
   "metadata": {},
   "source": [
    "## Question 3 -  About sets"
   ]
  },
  {
   "cell_type": "code",
   "execution_count": null,
   "metadata": {},
   "outputs": [],
   "source": [
    "# Sets definition and their definition.\n",
    "#  python uses curly brackets {} to denote sets. sets are unordered and inindexed.\n",
    "\n",
    "# creating a set \n",
    "set1 = {\"apple\", \"banana\", \"cherry\"}\n",
    "print(set1) # the order will varies while printing\n",
    "# to check whether a element is in this set or not\n",
    "set1 = {\"apple\", \"banana\", \"cherry\"}\n",
    "print(\"banana\" in set1) # if element present ->true . not present->false\n",
    "# for adding single item we can use add()\n",
    "set1 = {\"apple\", \"banana\", \"cherry\"}\n",
    "set1.add(\"orange\")\n",
    "print(\"set with added value is:\",set1)\n",
    "# for adding multiple items we have to use update ()\n",
    "set1 = {\"apple\", \"banana\", \"cherry\"}\n",
    "set1.update([\"orange\", \"mango\", \"grapes\"])\n",
    "print(\"updated set is:\",set1)\n",
    "# to get set length\n",
    "set1 = {\"apple\", \"banana\", \"cherry\"}\n",
    "print(len(set1))\n",
    "# removing an element\n",
    "set1 = {\"apple\", \"banana\", \"cherry\"}\n",
    "set1.discard(\"banana\")\n",
    "print(\"set after discarding:\",set1)\n",
    "# joining two sets\n",
    "set2 = {\"a\", \"b\" , \"c\"}\n",
    "set3 = {1, 2, 3}\n",
    "set4 = set2.union(set3)\n",
    "print(\"after adding two different sets:\",set4)"
   ]
  },
  {
   "cell_type": "markdown",
   "metadata": {},
   "source": [
    "## question 4"
   ]
  },
  {
   "cell_type": "code",
   "execution_count": 64,
   "metadata": {},
   "outputs": [
    {
     "name": "stdout",
     "output_type": "stream",
     "text": [
      "the given list {1, 2, 3, 4, 6, 7, 10}\n",
      "ordered list {1, 2, 3, 4, 5, 6, 7, 8, 9, 10}\n",
      "missing elements are: [5, 8, 9]\n"
     ]
    }
   ],
   "source": [
    "def num(num1): # will get hte numbers\n",
    "    sorted1= [x for x in range(num1[0], num1[-1] + 1)] # creating range from given elements.\n",
    "    num1 = set(num1) # it will print the actual inputs \n",
    "    print(\"the given list\",num1)\n",
    "    print(\"ordered list\",set(sorted1)) # printa number using range function\n",
    "    return (list(num1 ^ set(sorted1))) # ^ XOR  used to copies element which is not present in both sets\n",
    "\n",
    "\n",
    "print(\"missing elements are:\",num([1,2,3,4,6,7,10])) # returned values will contain missing values\n"
   ]
  },
  {
   "cell_type": "markdown",
   "metadata": {},
   "source": [
    "## Question 5 -  removing duplicates"
   ]
  },
  {
   "cell_type": "code",
   "execution_count": 66,
   "metadata": {},
   "outputs": [
    {
     "name": "stdout",
     "output_type": "stream",
     "text": [
      "original list: ['suve', 'sukan', 'jai', 'sukan', 'suve']\n",
      "duplicates removed list: ['suve', 'sukan', 'jai']\n",
      "original list: [2, 4, 10, 20, 5, 2, 20, 4]\n",
      "removed duplicates: [2, 4, 5, 10, 20]\n"
     ]
    }
   ],
   "source": [
    "mylist = [\"suve\", \"sukan\", \"jai\", \"sukan\", \"suve\"]\n",
    "mylist1 = list(dict.fromkeys(mylist)) #type casting and using from keys function\n",
    "print(\"original list:\",mylist)\n",
    "print(\"duplicates removed list:\",mylist1)\n",
    "\n",
    "l1 = [2, 4, 10, 20, 5, 2, 20, 4] \n",
    "print(\"original list:\",l1)\n",
    "l2=list(set(l1)) # another way for removing duplicates using duplicate function.\n",
    "print(\"removed duplicates:\",l2)"
   ]
  }
 ],
 "metadata": {
  "kernelspec": {
   "display_name": "Python 3",
   "language": "python",
   "name": "python3"
  },
  "language_info": {
   "codemirror_mode": {
    "name": "ipython",
    "version": 3
   },
   "file_extension": ".py",
   "mimetype": "text/x-python",
   "name": "python",
   "nbconvert_exporter": "python",
   "pygments_lexer": "ipython3",
   "version": "3.7.6"
  }
 },
 "nbformat": 4,
 "nbformat_minor": 4
}
