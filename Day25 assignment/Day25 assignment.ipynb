{
 "cells": [
  {
   "cell_type": "markdown",
   "metadata": {},
   "source": [
    "# Random Forest of Bank Loan Dataset:"
   ]
  },
  {
   "cell_type": "code",
   "execution_count": 24,
   "metadata": {},
   "outputs": [
    {
     "data": {
      "text/plain": [
       "Index(['ID', 'Age', 'Experience', 'Income', 'ZIP Code', 'Family', 'CCAvg',\n",
       "       'Education', 'Mortgage', 'PersonalLoan', 'SecuritiesAccount',\n",
       "       'CDAccount', 'Online', 'CreditCard'],\n",
       "      dtype='object')"
      ]
     },
     "execution_count": 24,
     "metadata": {},
     "output_type": "execute_result"
    }
   ],
   "source": [
    "import pandas as pd\n",
    "dataset=pd.read_excel(\"Bank_Personal_Loan_Modelling.xlsx\",sheet_name=1)\n",
    "dataset.head()\n",
    "dataset.columns"
   ]
  },
  {
   "cell_type": "code",
   "execution_count": 2,
   "metadata": {},
   "outputs": [
    {
     "data": {
      "text/html": [
       "<div>\n",
       "<style scoped>\n",
       "    .dataframe tbody tr th:only-of-type {\n",
       "        vertical-align: middle;\n",
       "    }\n",
       "\n",
       "    .dataframe tbody tr th {\n",
       "        vertical-align: top;\n",
       "    }\n",
       "\n",
       "    .dataframe thead th {\n",
       "        text-align: right;\n",
       "    }\n",
       "</style>\n",
       "<table border=\"1\" class=\"dataframe\">\n",
       "  <thead>\n",
       "    <tr style=\"text-align: right;\">\n",
       "      <th></th>\n",
       "      <th>Age</th>\n",
       "      <th>Experience</th>\n",
       "      <th>Income</th>\n",
       "      <th>Family</th>\n",
       "      <th>CCAvg</th>\n",
       "      <th>Education</th>\n",
       "      <th>Mortgage</th>\n",
       "      <th>PersonalLoan</th>\n",
       "      <th>SecuritiesAccount</th>\n",
       "      <th>CDAccount</th>\n",
       "      <th>Online</th>\n",
       "      <th>CreditCard</th>\n",
       "    </tr>\n",
       "  </thead>\n",
       "  <tbody>\n",
       "    <tr>\n",
       "      <th>0</th>\n",
       "      <td>25</td>\n",
       "      <td>1</td>\n",
       "      <td>49</td>\n",
       "      <td>4</td>\n",
       "      <td>1.6</td>\n",
       "      <td>1</td>\n",
       "      <td>0</td>\n",
       "      <td>0</td>\n",
       "      <td>1</td>\n",
       "      <td>0</td>\n",
       "      <td>0</td>\n",
       "      <td>0</td>\n",
       "    </tr>\n",
       "    <tr>\n",
       "      <th>1</th>\n",
       "      <td>45</td>\n",
       "      <td>19</td>\n",
       "      <td>34</td>\n",
       "      <td>3</td>\n",
       "      <td>1.5</td>\n",
       "      <td>1</td>\n",
       "      <td>0</td>\n",
       "      <td>0</td>\n",
       "      <td>1</td>\n",
       "      <td>0</td>\n",
       "      <td>0</td>\n",
       "      <td>0</td>\n",
       "    </tr>\n",
       "    <tr>\n",
       "      <th>2</th>\n",
       "      <td>39</td>\n",
       "      <td>15</td>\n",
       "      <td>11</td>\n",
       "      <td>1</td>\n",
       "      <td>1.0</td>\n",
       "      <td>1</td>\n",
       "      <td>0</td>\n",
       "      <td>0</td>\n",
       "      <td>0</td>\n",
       "      <td>0</td>\n",
       "      <td>0</td>\n",
       "      <td>0</td>\n",
       "    </tr>\n",
       "    <tr>\n",
       "      <th>3</th>\n",
       "      <td>35</td>\n",
       "      <td>9</td>\n",
       "      <td>100</td>\n",
       "      <td>1</td>\n",
       "      <td>2.7</td>\n",
       "      <td>2</td>\n",
       "      <td>0</td>\n",
       "      <td>0</td>\n",
       "      <td>0</td>\n",
       "      <td>0</td>\n",
       "      <td>0</td>\n",
       "      <td>0</td>\n",
       "    </tr>\n",
       "    <tr>\n",
       "      <th>4</th>\n",
       "      <td>35</td>\n",
       "      <td>8</td>\n",
       "      <td>45</td>\n",
       "      <td>4</td>\n",
       "      <td>1.0</td>\n",
       "      <td>2</td>\n",
       "      <td>0</td>\n",
       "      <td>0</td>\n",
       "      <td>0</td>\n",
       "      <td>0</td>\n",
       "      <td>0</td>\n",
       "      <td>1</td>\n",
       "    </tr>\n",
       "  </tbody>\n",
       "</table>\n",
       "</div>"
      ],
      "text/plain": [
       "   Age  Experience  Income  Family  CCAvg  Education  Mortgage  PersonalLoan  \\\n",
       "0   25           1      49       4    1.6          1         0             0   \n",
       "1   45          19      34       3    1.5          1         0             0   \n",
       "2   39          15      11       1    1.0          1         0             0   \n",
       "3   35           9     100       1    2.7          2         0             0   \n",
       "4   35           8      45       4    1.0          2         0             0   \n",
       "\n",
       "   SecuritiesAccount  CDAccount  Online  CreditCard  \n",
       "0                  1          0       0           0  \n",
       "1                  1          0       0           0  \n",
       "2                  0          0       0           0  \n",
       "3                  0          0       0           0  \n",
       "4                  0          0       0           1  "
      ]
     },
     "execution_count": 2,
     "metadata": {},
     "output_type": "execute_result"
    }
   ],
   "source": [
    "data=dataset.drop([\"ID\",\"ZIP Code\"],axis = 1)\n",
    "data.head()"
   ]
  },
  {
   "cell_type": "code",
   "execution_count": 4,
   "metadata": {},
   "outputs": [],
   "source": [
    "dataset2=dataset.dropna()"
   ]
  },
  {
   "cell_type": "code",
   "execution_count": 5,
   "metadata": {},
   "outputs": [],
   "source": [
    "dataset3=dataset2.drop_duplicates()"
   ]
  },
  {
   "cell_type": "code",
   "execution_count": 6,
   "metadata": {},
   "outputs": [],
   "source": [
    "from sklearn.ensemble import RandomForestClassifier "
   ]
  },
  {
   "cell_type": "code",
   "execution_count": 11,
   "metadata": {},
   "outputs": [],
   "source": [
    "import numpy as np"
   ]
  },
  {
   "cell_type": "code",
   "execution_count": 17,
   "metadata": {},
   "outputs": [],
   "source": [
    "dataset3[\"CCAvg\"]=np.round(dataset3[\"CCAvg\"])"
   ]
  },
  {
   "cell_type": "code",
   "execution_count": 20,
   "metadata": {},
   "outputs": [],
   "source": [
    "rf_model=RandomForestClassifier(n_estimators=1000,max_features=2,oob_score=True)"
   ]
  },
  {
   "cell_type": "code",
   "execution_count": 31,
   "metadata": {},
   "outputs": [],
   "source": [
    "features=['Age', 'Experience', 'Income',  'Family', 'CCAvg','Education', 'Mortgage',  'SecuritiesAccount',\n",
    "       'CDAccount', 'Online', 'CreditCard']"
   ]
  },
  {
   "cell_type": "code",
   "execution_count": 32,
   "metadata": {},
   "outputs": [
    {
     "data": {
      "text/plain": [
       "RandomForestClassifier(bootstrap=True, ccp_alpha=0.0, class_weight=None,\n",
       "                       criterion='gini', max_depth=None, max_features=2,\n",
       "                       max_leaf_nodes=None, max_samples=None,\n",
       "                       min_impurity_decrease=0.0, min_impurity_split=None,\n",
       "                       min_samples_leaf=1, min_samples_split=2,\n",
       "                       min_weight_fraction_leaf=0.0, n_estimators=1000,\n",
       "                       n_jobs=None, oob_score=True, random_state=None,\n",
       "                       verbose=0, warm_start=False)"
      ]
     },
     "execution_count": 32,
     "metadata": {},
     "output_type": "execute_result"
    }
   ],
   "source": [
    "rf_model.fit(X=dataset3[features],y=dataset3[\"PersonalLoan\"])"
   ]
  },
  {
   "cell_type": "code",
   "execution_count": 33,
   "metadata": {},
   "outputs": [
    {
     "name": "stdout",
     "output_type": "stream",
     "text": [
      "OOB Accuracy\n",
      "0.986\n"
     ]
    }
   ],
   "source": [
    "print(\"OOB Accuracy\")\n",
    "print(rf_model.oob_score_);"
   ]
  },
  {
   "cell_type": "code",
   "execution_count": 34,
   "metadata": {},
   "outputs": [
    {
     "name": "stdout",
     "output_type": "stream",
     "text": [
      "Age 0.04997884588618373\n",
      "Experience 0.04989294500224945\n",
      "Income 0.3628041654543448\n",
      "Family 0.10071416155320333\n",
      "CCAvg 0.13915484288824628\n",
      "Education 0.17013298396835838\n",
      "Mortgage 0.04741975889572044\n",
      "SecuritiesAccount 0.006399307607109927\n",
      "CDAccount 0.053123031772231974\n",
      "Online 0.009531199957635817\n",
      "CreditCard 0.010848757014715786\n"
     ]
    }
   ],
   "source": [
    "for feature,imp in zip(features,rf_model.feature_importances_):\n",
    "    print(feature,imp);"
   ]
  },
  {
   "cell_type": "code",
   "execution_count": 58,
   "metadata": {},
   "outputs": [
    {
     "data": {
      "text/plain": [
       "Index(['Age', 'Experience', 'Income', 'Family', 'CCAvg', 'Education',\n",
       "       'Mortgage', 'PersonalLoan', 'SecuritiesAccount', 'CDAccount', 'Online',\n",
       "       'CreditCard'],\n",
       "      dtype='object')"
      ]
     },
     "execution_count": 58,
     "metadata": {},
     "output_type": "execute_result"
    }
   ],
   "source": [
    "data.columns"
   ]
  },
  {
   "cell_type": "code",
   "execution_count": 46,
   "metadata": {},
   "outputs": [],
   "source": [
    "import statsmodels.api as sm"
   ]
  },
  {
   "cell_type": "code",
   "execution_count": 66,
   "metadata": {},
   "outputs": [],
   "source": [
    "Y=dataset3[\"PersonalLoan\"]\n",
    "X=dataset3[['ID', 'Age', 'Experience', 'Income', 'ZIP Code', 'Family', 'CCAvg',\n",
    "       'Education', 'Mortgage', 'SecuritiesAccount',\n",
    "       'CDAccount', 'Online', 'CreditCard']]\n"
   ]
  },
  {
   "cell_type": "code",
   "execution_count": 67,
   "metadata": {},
   "outputs": [],
   "source": [
    "X1=sm.add_constant(X)"
   ]
  },
  {
   "cell_type": "code",
   "execution_count": 68,
   "metadata": {},
   "outputs": [],
   "source": [
    "Logistic_BankLoan=sm.Logit(Y,X1)"
   ]
  },
  {
   "cell_type": "code",
   "execution_count": 69,
   "metadata": {},
   "outputs": [
    {
     "name": "stdout",
     "output_type": "stream",
     "text": [
      "Optimization terminated successfully.\n",
      "         Current function value: 0.128514\n",
      "         Iterations 9\n"
     ]
    }
   ],
   "source": [
    "result=Logistic_BankLoan.fit()"
   ]
  },
  {
   "cell_type": "code",
   "execution_count": 70,
   "metadata": {},
   "outputs": [
    {
     "data": {
      "text/html": [
       "<table class=\"simpletable\">\n",
       "<caption>Logit Regression Results</caption>\n",
       "<tr>\n",
       "  <th>Dep. Variable:</th>     <td>PersonalLoan</td>   <th>  No. Observations:  </th>  <td>  5000</td> \n",
       "</tr>\n",
       "<tr>\n",
       "  <th>Model:</th>                 <td>Logit</td>      <th>  Df Residuals:      </th>  <td>  4986</td> \n",
       "</tr>\n",
       "<tr>\n",
       "  <th>Method:</th>                 <td>MLE</td>       <th>  Df Model:          </th>  <td>    13</td> \n",
       "</tr>\n",
       "<tr>\n",
       "  <th>Date:</th>            <td>Thu, 29 Oct 2020</td> <th>  Pseudo R-squ.:     </th>  <td>0.5936</td> \n",
       "</tr>\n",
       "<tr>\n",
       "  <th>Time:</th>                <td>15:44:04</td>     <th>  Log-Likelihood:    </th> <td> -642.57</td>\n",
       "</tr>\n",
       "<tr>\n",
       "  <th>converged:</th>             <td>True</td>       <th>  LL-Null:           </th> <td> -1581.0</td>\n",
       "</tr>\n",
       "<tr>\n",
       "  <th>Covariance Type:</th>     <td>nonrobust</td>    <th>  LLR p-value:       </th>  <td> 0.000</td> \n",
       "</tr>\n",
       "</table>\n",
       "<table class=\"simpletable\">\n",
       "<tr>\n",
       "          <td></td>             <th>coef</th>     <th>std err</th>      <th>z</th>      <th>P>|z|</th>  <th>[0.025</th>    <th>0.975]</th>  \n",
       "</tr>\n",
       "<tr>\n",
       "  <th>const</th>             <td>  -11.6092</td> <td>    4.102</td> <td>   -2.830</td> <td> 0.005</td> <td>  -19.649</td> <td>   -3.569</td>\n",
       "</tr>\n",
       "<tr>\n",
       "  <th>ID</th>                <td>-5.363e-05</td> <td> 5.14e-05</td> <td>   -1.044</td> <td> 0.297</td> <td>   -0.000</td> <td> 4.71e-05</td>\n",
       "</tr>\n",
       "<tr>\n",
       "  <th>Age</th>               <td>   -0.0534</td> <td>    0.061</td> <td>   -0.870</td> <td> 0.385</td> <td>   -0.174</td> <td>    0.067</td>\n",
       "</tr>\n",
       "<tr>\n",
       "  <th>Experience</th>        <td>    0.0631</td> <td>    0.061</td> <td>    1.033</td> <td> 0.301</td> <td>   -0.057</td> <td>    0.183</td>\n",
       "</tr>\n",
       "<tr>\n",
       "  <th>Income</th>            <td>    0.0550</td> <td>    0.003</td> <td>   20.960</td> <td> 0.000</td> <td>    0.050</td> <td>    0.060</td>\n",
       "</tr>\n",
       "<tr>\n",
       "  <th>ZIP Code</th>          <td>-4.568e-06</td> <td> 4.06e-05</td> <td>   -0.113</td> <td> 0.910</td> <td>-8.41e-05</td> <td>  7.5e-05</td>\n",
       "</tr>\n",
       "<tr>\n",
       "  <th>Family</th>            <td>    0.6949</td> <td>    0.074</td> <td>    9.360</td> <td> 0.000</td> <td>    0.549</td> <td>    0.840</td>\n",
       "</tr>\n",
       "<tr>\n",
       "  <th>CCAvg</th>             <td>    0.1062</td> <td>    0.039</td> <td>    2.759</td> <td> 0.006</td> <td>    0.031</td> <td>    0.182</td>\n",
       "</tr>\n",
       "<tr>\n",
       "  <th>Education</th>         <td>    1.7322</td> <td>    0.115</td> <td>   15.083</td> <td> 0.000</td> <td>    1.507</td> <td>    1.957</td>\n",
       "</tr>\n",
       "<tr>\n",
       "  <th>Mortgage</th>          <td>    0.0004</td> <td>    0.001</td> <td>    0.804</td> <td> 0.421</td> <td>   -0.001</td> <td>    0.002</td>\n",
       "</tr>\n",
       "<tr>\n",
       "  <th>SecuritiesAccount</th> <td>   -0.9412</td> <td>    0.286</td> <td>   -3.293</td> <td> 0.001</td> <td>   -1.501</td> <td>   -0.381</td>\n",
       "</tr>\n",
       "<tr>\n",
       "  <th>CDAccount</th>         <td>    3.8248</td> <td>    0.324</td> <td>   11.807</td> <td> 0.000</td> <td>    3.190</td> <td>    4.460</td>\n",
       "</tr>\n",
       "<tr>\n",
       "  <th>Online</th>            <td>   -0.6698</td> <td>    0.157</td> <td>   -4.263</td> <td> 0.000</td> <td>   -0.978</td> <td>   -0.362</td>\n",
       "</tr>\n",
       "<tr>\n",
       "  <th>CreditCard</th>        <td>   -1.1124</td> <td>    0.205</td> <td>   -5.427</td> <td> 0.000</td> <td>   -1.514</td> <td>   -0.711</td>\n",
       "</tr>\n",
       "</table>"
      ],
      "text/plain": [
       "<class 'statsmodels.iolib.summary.Summary'>\n",
       "\"\"\"\n",
       "                           Logit Regression Results                           \n",
       "==============================================================================\n",
       "Dep. Variable:           PersonalLoan   No. Observations:                 5000\n",
       "Model:                          Logit   Df Residuals:                     4986\n",
       "Method:                           MLE   Df Model:                           13\n",
       "Date:                Thu, 29 Oct 2020   Pseudo R-squ.:                  0.5936\n",
       "Time:                        15:44:04   Log-Likelihood:                -642.57\n",
       "converged:                       True   LL-Null:                       -1581.0\n",
       "Covariance Type:            nonrobust   LLR p-value:                     0.000\n",
       "=====================================================================================\n",
       "                        coef    std err          z      P>|z|      [0.025      0.975]\n",
       "-------------------------------------------------------------------------------------\n",
       "const               -11.6092      4.102     -2.830      0.005     -19.649      -3.569\n",
       "ID                -5.363e-05   5.14e-05     -1.044      0.297      -0.000    4.71e-05\n",
       "Age                  -0.0534      0.061     -0.870      0.385      -0.174       0.067\n",
       "Experience            0.0631      0.061      1.033      0.301      -0.057       0.183\n",
       "Income                0.0550      0.003     20.960      0.000       0.050       0.060\n",
       "ZIP Code          -4.568e-06   4.06e-05     -0.113      0.910   -8.41e-05     7.5e-05\n",
       "Family                0.6949      0.074      9.360      0.000       0.549       0.840\n",
       "CCAvg                 0.1062      0.039      2.759      0.006       0.031       0.182\n",
       "Education             1.7322      0.115     15.083      0.000       1.507       1.957\n",
       "Mortgage              0.0004      0.001      0.804      0.421      -0.001       0.002\n",
       "SecuritiesAccount    -0.9412      0.286     -3.293      0.001      -1.501      -0.381\n",
       "CDAccount             3.8248      0.324     11.807      0.000       3.190       4.460\n",
       "Online               -0.6698      0.157     -4.263      0.000      -0.978      -0.362\n",
       "CreditCard           -1.1124      0.205     -5.427      0.000      -1.514      -0.711\n",
       "=====================================================================================\n",
       "\"\"\""
      ]
     },
     "execution_count": 70,
     "metadata": {},
     "output_type": "execute_result"
    }
   ],
   "source": [
    "result.summary()"
   ]
  }
 ],
 "metadata": {
  "kernelspec": {
   "display_name": "Python 3",
   "language": "python",
   "name": "python3"
  },
  "language_info": {
   "codemirror_mode": {
    "name": "ipython",
    "version": 3
   },
   "file_extension": ".py",
   "mimetype": "text/x-python",
   "name": "python",
   "nbconvert_exporter": "python",
   "pygments_lexer": "ipython3",
   "version": "3.7.6"
  }
 },
 "nbformat": 4,
 "nbformat_minor": 4
}
