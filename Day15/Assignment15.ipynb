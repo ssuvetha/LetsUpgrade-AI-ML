{
 "cells": [
  {
   "cell_type": "markdown",
   "metadata": {},
   "source": [
    "### 1. Create a 3x3x3 array with random values\n"
   ]
  },
  {
   "cell_type": "code",
   "execution_count": 2,
   "metadata": {},
   "outputs": [],
   "source": [
    "import numpy as np"
   ]
  },
  {
   "cell_type": "code",
   "execution_count": 31,
   "metadata": {},
   "outputs": [
    {
     "name": "stdout",
     "output_type": "stream",
     "text": [
      "   3 X 3 RANDOM INTEGER NUMBER:\n",
      "[[0 1 2]\n",
      " [3 4 5]\n",
      " [6 7 8]]\n",
      "   3 X 3 RANDOM FLOAT NUMBER\n",
      "[[0.63712109 0.59568161 0.62504368]\n",
      " [0.02464995 0.82539126 0.8412992 ]\n",
      " [0.52917371 0.50753326 0.99015679]]\n"
     ]
    }
   ],
   "source": [
    "\n",
    "a=np.arange(9).reshape(3,3)\n",
    "print(\"   3 X 3 RANDOM INTEGER NUMBER:\")\n",
    "print(a)\n",
    "from numpy import random\n",
    "x = random.rand(3,3)\n",
    "print(\"   3 X 3 RANDOM FLOAT NUMBER\")\n",
    "print(x)\n"
   ]
  },
  {
   "cell_type": "markdown",
   "metadata": {},
   "source": [
    "##  5x5 matrix with values 1,2,3,4 just below the diagonal"
   ]
  },
  {
   "cell_type": "code",
   "execution_count": 33,
   "metadata": {},
   "outputs": [
    {
     "data": {
      "text/plain": [
       "array([[1, 0, 0, 0, 0],\n",
       "       [0, 2, 0, 0, 0],\n",
       "       [0, 0, 3, 0, 0],\n",
       "       [0, 0, 0, 4, 0],\n",
       "       [0, 0, 0, 0, 5]])"
      ]
     },
     "execution_count": 33,
     "metadata": {},
     "output_type": "execute_result"
    }
   ],
   "source": [
    "element=[1,2,3,4,5]\n",
    "value=np.diag(v)\n",
    "value"
   ]
  },
  {
   "cell_type": "markdown",
   "metadata": {},
   "source": [
    "# Create a 8x8 matrix and fill it with a checkerboard pattern"
   ]
  },
  {
   "cell_type": "code",
   "execution_count": 77,
   "metadata": {},
   "outputs": [
    {
     "data": {
      "text/plain": [
       "array([[0., 1., 0., 0., 0., 0., 0., 0.],\n",
       "       [1., 0., 1., 0., 1., 0., 1., 0.],\n",
       "       [0., 1., 0., 0., 0., 0., 0., 0.],\n",
       "       [0., 0., 0., 0., 0., 0., 0., 0.],\n",
       "       [0., 1., 0., 0., 0., 0., 0., 0.],\n",
       "       [0., 0., 0., 0., 0., 0., 0., 0.],\n",
       "       [0., 1., 0., 0., 0., 0., 0., 0.],\n",
       "       [0., 0., 0., 0., 0., 0., 0., 0.]])"
      ]
     },
     "execution_count": 77,
     "metadata": {},
     "output_type": "execute_result"
    }
   ],
   "source": [
    "value=np.zeros((8,8))\n",
    "value[1:2,::2]=1\n",
    "value[::2,1:2]=1\n",
    "value"
   ]
  },
  {
   "cell_type": "markdown",
   "metadata": {},
   "source": [
    " # Normalize a 5x5 random matrix\n",
    " "
   ]
  },
  {
   "cell_type": "code",
   "execution_count": 83,
   "metadata": {},
   "outputs": [
    {
     "name": "stdout",
     "output_type": "stream",
     "text": [
      "ARRANGE VALUES\n",
      "[[ 0  1  2  3  4]\n",
      " [ 5  6  7  8  9]\n",
      " [10 11 12 13 14]\n",
      " [15 16 17 18 19]\n",
      " [20 21 22 23 24]]\n",
      "RANDOM VALUES\n",
      "[[0.37156688 0.65463281 0.83886203 0.53955524 0.98388272]\n",
      " [0.28682709 0.13848357 0.30757622 0.20904891 0.97288535]\n",
      " [0.27995349 0.15743635 0.21160363 0.39157963 0.94582323]\n",
      " [0.13306312 0.64102184 0.92512151 0.00158267 0.83199933]\n",
      " [0.80028245 0.44457381 0.00413604 0.33878735 0.74458357]]\n"
     ]
    }
   ],
   "source": [
    "print(\"ARRANGE VALUES\")\n",
    "b=np.arange(25).reshape(5,5)\n",
    "print(b)\n",
    "print(\"RANDOM VALUES\")\n",
    "c=np.random.random((5,5))\n",
    "print(c)"
   ]
  },
  {
   "cell_type": "markdown",
   "metadata": {},
   "source": [
    "# How to find common values between two arrays"
   ]
  },
  {
   "cell_type": "code",
   "execution_count": 92,
   "metadata": {},
   "outputs": [
    {
     "name": "stdout",
     "output_type": "stream",
     "text": [
      "A1:  [ 0 10 20 40 60]\n",
      "A2:  [10, 30, 40]\n",
      "Intersected values:\n",
      "[10 40]\n"
     ]
    }
   ],
   "source": [
    "a1 = np.array([0, 10, 20, 40, 60])\n",
    "print(\"A1: \",array1)\n",
    "a2 = [10, 30, 40]\n",
    "print(\"A2: \",array2)\n",
    "print(\"Intersected values:\")\n",
    "print(np.intersect1d(a1, a2))"
   ]
  },
  {
   "cell_type": "markdown",
   "metadata": {},
   "source": [
    "# The dates of yesterday, today and tomorrow"
   ]
  },
  {
   "cell_type": "code",
   "execution_count": 93,
   "metadata": {},
   "outputs": [
    {
     "name": "stdout",
     "output_type": "stream",
     "text": [
      "Yestraday:  2020-08-02\n",
      "Today:  2020-08-03\n",
      "Tomorrow:  2020-08-04\n"
     ]
    }
   ],
   "source": [
    "yesterday = np.datetime64('today', 'D') - np.timedelta64(1, 'D')\n",
    "print(\"Yestraday: \",yesterday)\n",
    "today     = np.datetime64('today', 'D')\n",
    "print(\"Today: \",today)\n",
    "tomorrow  = np.datetime64('today', 'D') + np.timedelta64(1, 'D')\n",
    "print(\"Tomorrow: \",tomorrow)"
   ]
  },
  {
   "cell_type": "markdown",
   "metadata": {},
   "source": [
    "# Consider two random array A and B, check if they are equal"
   ]
  },
  {
   "cell_type": "code",
   "execution_count": 97,
   "metadata": {},
   "outputs": [
    {
     "name": "stdout",
     "output_type": "stream",
     "text": [
      "A1:  [ 0 10 20 40 60]\n",
      "A2:  [10, 30, 40]\n",
      "Is both arrays are equal values:\n",
      "False\n"
     ]
    }
   ],
   "source": [
    "a1 = np.array([0, 10, 20, 40, 60])\n",
    "print(\"A1: \",array1)\n",
    "a2 = [10, 30, 40]\n",
    "print(\"A2: \",array2)\n",
    "print(\"Is both arrays are equal values:\")\n",
    "check = np.array_equal(a1,a2)\n",
    "print(check)"
   ]
  },
  {
   "cell_type": "markdown",
   "metadata": {},
   "source": [
    "# random vector of size 10 and replace the maximum value by 0"
   ]
  },
  {
   "cell_type": "code",
   "execution_count": 101,
   "metadata": {},
   "outputs": [
    {
     "data": {
      "text/plain": [
       "array([0.        , 0.04133273, 0.03788939, 0.17515739, 0.83697335,\n",
       "       0.19533082, 0.59334393, 0.60856126, 0.31638645, 0.26018131])"
      ]
     },
     "execution_count": 101,
     "metadata": {},
     "output_type": "execute_result"
    }
   ],
   "source": [
    "vector=np.random.random(10)\n",
    "vector\n",
    "vector[vector.argmax()]=0\n",
    "vector"
   ]
  },
  {
   "cell_type": "markdown",
   "metadata": {},
   "source": [
    "# print all the values of an array"
   ]
  },
  {
   "cell_type": "code",
   "execution_count": 102,
   "metadata": {},
   "outputs": [
    {
     "data": {
      "text/plain": [
       "array([0.2590683 , 0.78678419, 0.26825253, 0.04495243, 0.89051635,\n",
       "       0.10788461, 0.72083733, 0.051563  , 0.32793892, 0.88059001])"
      ]
     },
     "execution_count": 102,
     "metadata": {},
     "output_type": "execute_result"
    }
   ],
   "source": [
    "vector=np.random.random(10)\n",
    "vector"
   ]
  },
  {
   "cell_type": "markdown",
   "metadata": {},
   "source": [
    "# Subtract the mean of each row of a matrix"
   ]
  },
  {
   "cell_type": "code",
   "execution_count": 22,
   "metadata": {},
   "outputs": [
    {
     "name": "stdout",
     "output_type": "stream",
     "text": [
      "the array is:\n",
      "[[5 2]\n",
      " [6 9]]\n",
      "row_mean value is:\n",
      "[3.5 7.5]\n",
      "subtracted mean of each row matrix is:\n",
      "[[ 1.5 -5.5]\n",
      " [ 2.5  1.5]]\n"
     ]
    }
   ],
   "source": [
    "arr=np.array([[5,2],[6,9]])\n",
    "print(\"the array is:\")\n",
    "print(arr)\n",
    "row_mean=np.mean(arr,axis=1)\n",
    "print(\"row_mean value is:\")\n",
    "print(row_mean)\n",
    "print(\"subtracted mean of each row matrix is:\")\n",
    "print(arr-row_mean)\n"
   ]
  },
  {
   "cell_type": "markdown",
   "metadata": {},
   "source": [
    "# add 1 to each element indexed by a second vector"
   ]
  },
  {
   "cell_type": "code",
   "execution_count": 25,
   "metadata": {},
   "outputs": [
    {
     "name": "stdout",
     "output_type": "stream",
     "text": [
      "the array is: [5 2 7 8 9]\n",
      "after adding one: [ 6  3  8  9 10]\n"
     ]
    }
   ],
   "source": [
    "arr=np.array([5,2,7,8,9])\n",
    "print(\"the array is:\",arr)\n",
    "print(\"after adding one:\",arr+1)"
   ]
  },
  {
   "cell_type": "markdown",
   "metadata": {},
   "source": [
    "# get the diagonal of a dot product"
   ]
  },
  {
   "cell_type": "code",
   "execution_count": 33,
   "metadata": {},
   "outputs": [
    {
     "name": "stdout",
     "output_type": "stream",
     "text": [
      "[[1 2]\n",
      " [3 4]]\n",
      "[[3 5]\n",
      " [6 5]]\n",
      "the dot product value is :\n",
      "[[15 15]\n",
      " [33 35]]\n",
      "diagonal of a dot product is.... [15 35]\n"
     ]
    }
   ],
   "source": [
    "a1 = np.array([[1,2],[3,4]])\n",
    "b1= np.array([[3,5],[6,5]])\n",
    "print(a1)\n",
    "print(b1)\n",
    "print(\"the dot product value is :\")\n",
    "print(np.dot(A,B))\n",
    "out=np.diag(np.dot(A, B))\n",
    "print(\"diagonal of a dot product is....\",out)"
   ]
  },
  {
   "cell_type": "markdown",
   "metadata": {},
   "source": [
    "# most frequent value in an array"
   ]
  },
  {
   "cell_type": "code",
   "execution_count": 35,
   "metadata": {},
   "outputs": [
    {
     "name": "stdout",
     "output_type": "stream",
     "text": [
      "Original array:\n",
      "[5 5 6 7 2 5 5 9 7 4 1 4 1 9 7 5 7 2 9 7]\n",
      "Most frequent value in the above array:\n",
      "5\n"
     ]
    }
   ],
   "source": [
    "x = np.random.randint(0, 10, 20)\n",
    "print(\"Original array:\")\n",
    "print(x)\n",
    "print(\"Most frequent value in the above array:\")\n",
    "print(np.bincount(x).argmax())"
   ]
  },
  {
   "cell_type": "markdown",
   "metadata": {},
   "source": [
    " # get the n largest values of an array"
   ]
  },
  {
   "cell_type": "code",
   "execution_count": 43,
   "metadata": {},
   "outputs": [
    {
     "name": "stdout",
     "output_type": "stream",
     "text": [
      "[89]\n"
     ]
    }
   ],
   "source": [
    "a=[5,6,7,89,43,56,78,32]\n",
    "sor=np.array(a)\n",
    "print (sort[np.argsort(sort)[-1:]])"
   ]
  },
  {
   "cell_type": "markdown",
   "metadata": {},
   "source": [
    " # create a record array from a regular array"
   ]
  },
  {
   "cell_type": "code",
   "execution_count": 47,
   "metadata": {},
   "outputs": [
    {
     "name": "stdout",
     "output_type": "stream",
     "text": [
      "(1, 'Red', 12.2)\n",
      "(2, 'Green', 15.)\n",
      "(3, 'White', 20.)\n"
     ]
    }
   ],
   "source": [
    "one=np.array([1,2,3,4])\n",
    "two=np.array(['Red','Green','White','Orange'])\n",
    "three=np.array([12.20,15,20,40])\n",
    "result= np.core.records.fromarrays([one, two, three],names='a,b,c')\n",
    "print(result[0])\n",
    "print(result[1])\n",
    "print(result[2])"
   ]
  }
 ],
 "metadata": {
  "kernelspec": {
   "display_name": "Python 3",
   "language": "python",
   "name": "python3"
  },
  "language_info": {
   "codemirror_mode": {
    "name": "ipython",
    "version": 3
   },
   "file_extension": ".py",
   "mimetype": "text/x-python",
   "name": "python",
   "nbconvert_exporter": "python",
   "pygments_lexer": "ipython3",
   "version": "3.7.6"
  }
 },
 "nbformat": 4,
 "nbformat_minor": 4
}
